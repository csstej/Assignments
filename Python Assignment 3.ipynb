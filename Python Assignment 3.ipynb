{
 "cells": [
  {
   "cell_type": "markdown",
   "metadata": {},
   "source": [
    "### 1.1 Write a Python Program to implement your own myreduce() function which works exactly like Python's built-in function reduce()"
   ]
  },
  {
   "cell_type": "code",
   "execution_count": 3,
   "metadata": {},
   "outputs": [
    {
     "name": "stdout",
     "output_type": "stream",
     "text": [
      "10\n"
     ]
    }
   ],
   "source": [
    "def myreduce(fun, seq):\n",
    "    store = seq[0]\n",
    "    for i in seq[1:]:\n",
    "        store = fun(store, i)\n",
    "    return store\n",
    "\n",
    "def my_add(a, b):\n",
    "    result = a + b\n",
    "    return result\n",
    "\n",
    "numbers = [0, 1, 2, 3, 4]\n",
    "print(myreduce(my_add, numbers))"
   ]
  },
  {
   "cell_type": "markdown",
   "metadata": {},
   "source": [
    "### 1.2 Write a Python program to implement your own myfilter() function which works exactly like Python's built-in function filter()\n"
   ]
  },
  {
   "cell_type": "code",
   "execution_count": 7,
   "metadata": {},
   "outputs": [
    {
     "name": "stdout",
     "output_type": "stream",
     "text": [
      "10\n",
      "6\n",
      "50\n",
      "\n"
     ]
    }
   ],
   "source": [
    "def myfilter(fun, seq):\n",
    "    for i in seq:\n",
    "        if fun(i) is False:\n",
    "            continue\n",
    "        print(i)\n",
    "    return \"\"\n",
    "\n",
    "def is_even(x):\n",
    "    if x % 2 == 0:\n",
    "        return True\n",
    "    else:\n",
    "        return False\n",
    "\n",
    "f = myfilter(is_even, [1, 3, 10, 45, 6, 50])\n",
    "\n",
    "print(f)     "
   ]
  },
  {
   "cell_type": "markdown",
   "metadata": {},
   "source": [
    "### 2. Implement List comprehensions to produce the following lists."
   ]
  },
  {
   "cell_type": "code",
   "execution_count": 102,
   "metadata": {},
   "outputs": [
    {
     "name": "stdout",
     "output_type": "stream",
     "text": [
      "['x', 'xx', 'xxx', 'xxxx', 'y', 'yy', 'yyy', 'yyyy', 'z', 'zz', 'zzz', 'zzzz']\n",
      "['x', 'y', 'z', 'xx', 'yy', 'zz', 'xxx', 'yyy', 'zzz', 'xxxx', 'yyyy', 'zzzz']\n",
      "[[2], [3], [4], [3], [4], [5], [4], [5], [6]]\n",
      "([2, 3, 4, 5], [3, 4, 5, 6], [4, 5, 6, 7], [5, 6, 7, 8])\n",
      "[(1, 1), (2, 1), (3, 1), (1, 2), (2, 2), (3, 2), (1, 3), (2, 3), (3, 3)]\n"
     ]
    }
   ],
   "source": [
    "list1 = [l*i for l in 'xyz' for i in range(1,5)] \n",
    "print(list1)\n",
    "\n",
    "list2 = [l*i for i in range(1,5) for l in 'xyz'] \n",
    "print(list2)\n",
    "\n",
    "list3 = [[x+y] for x in range(2,5) for y in range(3)]\n",
    "print(list3)\n",
    "\n",
    "list4 = [x for x in range(2,6)],[x for x in range(3,7)], [x for x in range(4,8)], [x for x in range(5,9)]\n",
    "print(list4)\n",
    "\n",
    "list5 = [(y,x)for x in range(1,4) for y in range(1,4)]\n",
    "print(list5)"
   ]
  }
 ],
 "metadata": {
  "kernelspec": {
   "display_name": "Python 3",
   "language": "python",
   "name": "python3"
  },
  "language_info": {
   "codemirror_mode": {
    "name": "ipython",
    "version": 3
   },
   "file_extension": ".py",
   "mimetype": "text/x-python",
   "name": "python",
   "nbconvert_exporter": "python",
   "pygments_lexer": "ipython3",
   "version": "3.8.5"
  }
 },
 "nbformat": 4,
 "nbformat_minor": 4
}
